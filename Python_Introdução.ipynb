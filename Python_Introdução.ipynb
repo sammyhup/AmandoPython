{
  "nbformat": 4,
  "nbformat_minor": 0,
  "metadata": {
    "colab": {
      "name": "Python:Introdução.ipynb",
      "provenance": [],
      "collapsed_sections": [],
      "include_colab_link": true
    },
    "kernelspec": {
      "name": "python3",
      "display_name": "Python 3"
    },
    "language_info": {
      "name": "python"
    }
  },
  "cells": [
    {
      "cell_type": "markdown",
      "metadata": {
        "id": "view-in-github",
        "colab_type": "text"
      },
      "source": [
        "<a href=\"https://colab.research.google.com/github/sammyhup/AmandoPython/blob/main/Python_Introdu%C3%A7%C3%A3o.ipynb\" target=\"_parent\"><img src=\"https://colab.research.google.com/assets/colab-badge.svg\" alt=\"Open In Colab\"/></a>"
      ]
    },
    {
      "cell_type": "markdown",
      "metadata": {
        "id": "p-q9cZL2tPvE"
      },
      "source": [
        "# Um pouco sobre a história da computação."
      ]
    },
    {
      "cell_type": "code",
      "source": [
        "print ('Hello Word')"
      ],
      "metadata": {
        "id": "kALaIMxszh8o",
        "outputId": "f52af39d-4dd1-481c-a83e-61a2adef6c54",
        "colab": {
          "base_uri": "https://localhost:8080/"
        }
      },
      "execution_count": null,
      "outputs": [
        {
          "output_type": "stream",
          "name": "stdout",
          "text": [
            "Hello Word\n"
          ]
        }
      ]
    },
    {
      "cell_type": "code",
      "source": [
        "print('Escreva o primeiro número')\n",
        "n1 = float(input())\n",
        "print(\"Escreva o segundo número\")\n",
        "n2 = float( input())\n",
        "media = (n1 + n2) / 2\n",
        "print('media', media)"
      ],
      "metadata": {
        "colab": {
          "base_uri": "https://localhost:8080/"
        },
        "id": "vhcy8DtGHA9m",
        "outputId": "288f6d9f-f496-4ae2-ebd2-681d0e80dfc0"
      },
      "execution_count": null,
      "outputs": [
        {
          "output_type": "stream",
          "name": "stdout",
          "text": [
            "Escreva o primeiro número\n",
            "2\n",
            "Escreva o segundo número\n",
            "3\n",
            "media 2.5\n"
          ]
        }
      ]
    },
    {
      "cell_type": "markdown",
      "metadata": {
        "id": "UzNxxj6M_bqq"
      },
      "source": [
        "## O que é programação?"
      ]
    },
    {
      "cell_type": "markdown",
      "metadata": {
        "id": "Q2MdGPEewFK0"
      },
      "source": [
        "### ***`Esse é um texto.`***"
      ]
    },
    {
      "cell_type": "markdown",
      "metadata": {
        "id": "INxvCxfL_3Jn"
      },
      "source": [
        "## O que é um programa de computador?\n",
        "\n"
      ]
    },
    {
      "cell_type": "code",
      "source": [
        "print('\"Danilo de Souza Miguel\"')\n",
        "print(\"Hello World) \n",
        "print(8 + 5)"
      ],
      "metadata": {
        "colab": {
          "base_uri": "https://localhost:8080/"
        },
        "id": "b6woj3iwqHNH",
        "outputId": "04ebbc99-1df9-4228-831e-46f1beb51be0"
      },
      "execution_count": null,
      "outputs": [
        {
          "output_type": "stream",
          "name": "stdout",
          "text": [
            "\"Danilo de Souza Miguel\"\n",
            "Hello Word\n",
            "13\n"
          ]
        }
      ]
    },
    {
      "cell_type": "code",
      "metadata": {
        "colab": {
          "base_uri": "https://localhost:8080/"
        },
        "id": "6P69vXQmwM0N",
        "outputId": "3d9af9a6-c2d1-4f3a-85dd-095f9ed58516"
      },
      "source": [
        "print('\"Hello aspas simples\"')"
      ],
      "execution_count": null,
      "outputs": [
        {
          "output_type": "stream",
          "name": "stdout",
          "text": [
            "\"Hello aspas simples\"\n"
          ]
        }
      ]
    },
    {
      "cell_type": "markdown",
      "source": [
        "# **Aqui eu tenho um texto.**"
      ],
      "metadata": {
        "id": "qrFabRupqAiC"
      }
    },
    {
      "cell_type": "markdown",
      "metadata": {
        "id": "LLoSPWxQADqa"
      },
      "source": [
        "## O que é um algoritmo?"
      ]
    },
    {
      "cell_type": "markdown",
      "metadata": {
        "id": "WYXbrAbfdLzN"
      },
      "source": [
        "### ***`Esse é um editor de textos`***"
      ]
    },
    {
      "cell_type": "markdown",
      "metadata": {
        "id": "SyJDtR9DAI8V"
      },
      "source": [
        "# Python\n",
        "### Aplicações python\n",
        "### Ambientes de programação python\n",
        "\n",
        "\n",
        "\n"
      ]
    },
    {
      "cell_type": "markdown",
      "metadata": {
        "id": "_FM-xSH6tsNW"
      },
      "source": [
        "# Exibição de informação no console, print( )\n"
      ]
    },
    {
      "cell_type": "code",
      "metadata": {
        "colab": {
          "base_uri": "https://localhost:8080/"
        },
        "id": "ayJq-uVPfQ8Q",
        "outputId": "106e5444-7bb6-490c-866c-0714896f92bb"
      },
      "source": [
        "nome = \"Danilo\"\n",
        "numero = \"8\"\n",
        "\n",
        "print(nome)\n",
        "print(numero)\n",
        "\n",
        "\n",
        "\n",
        "# print(\"Oi mundo\")  # Essa função exibe informações para o usuário\n",
        "\n",
        "\n",
        "#print(4)\n",
        "\n",
        "# print(\"Hello Word\")\n",
        "# print(\"Este é o meu segundo print\")\n",
        "# print(\"Oi, meu nome é Danilo\")"
      ],
      "execution_count": null,
      "outputs": [
        {
          "output_type": "stream",
          "name": "stdout",
          "text": [
            "Danilo\n",
            "8\n"
          ]
        }
      ]
    },
    {
      "cell_type": "markdown",
      "metadata": {
        "id": "C_APoBVeunmP"
      },
      "source": [
        "# Tipos de dados em Python e a função type( )"
      ]
    },
    {
      "cell_type": "code",
      "metadata": {
        "colab": {
          "base_uri": "https://localhost:8080/"
        },
        "id": "SsGvi_VXpxNc",
        "outputId": "e62c7a42-57a4-4e02-deb7-7be1b07fec3f"
      },
      "source": [
        "# Tipos de dados númericos \n",
        "\n",
        "# print() # Exibe informações na tela para o usuário\n",
        "# type() # Exibe o tipo da variável\n",
        "\n",
        "#str(idade), str(altura))\n",
        "\n",
        "\n",
        "print(type(27)) # O tipo de dados do número 27 é int(numero inteiro)\n",
        "print(type(7.8)) #  O tipo de dados do número 7.8 é float(numero decimal)\n",
        "print(type(5.7 + 27j)) # O tipo de dados do número 5.7 é complex (numero coplex)\n",
        "\n",
        "# print (type(100))\n",
        "# print(type(5.7)) # O tipo de dados do número 5.7 é float(numero decimal)\n",
        "# print(type(5.7 + 27j)) # O tipo de dados do número 5.7 é complex (numero coplex)\n",
        "\n",
        "\n",
        "# Tipos de dados textual \n",
        "\n",
        "print(type('Danilo')) # O tipo de dados do nome Danilo é uma String\n",
        "\n",
        "# Tipos de dados booleano \n",
        "print(type(True)) # tipo booleano, valores lógico, para Verdadeiro (True) e para Falso (False)\n",
        "\n",
        "\n",
        "# # Tipos de dados númericos em python\n",
        "# print(type(7)) # Numero inteiro\n",
        "# print(type(7.5)) # Numero Fracionado, numero decimal\n",
        "# print(type(5 + 2j))  # Numero Complexo\n",
        "\n",
        "\n",
        "\n",
        "# # Tipo de dados booleano\n",
        "# print(type(False))\n",
        "\n",
        "# # Tipo de dados textual \n",
        "# print(type('\"Danilo\"'))\n",
        "\n",
        "# nome = \" Danilo de Souza Miguel\"\n",
        "# print(nome)\n"
      ],
      "execution_count": null,
      "outputs": [
        {
          "output_type": "stream",
          "name": "stdout",
          "text": [
            "<class 'int'>\n",
            "<class 'float'>\n",
            "<class 'complex'>\n",
            "<class 'str'>\n",
            "<class 'bool'>\n"
          ]
        }
      ]
    },
    {
      "cell_type": "markdown",
      "metadata": {
        "id": "1Aajf9fIK1qx"
      },
      "source": [
        "# Variáveis "
      ]
    },
    {
      "cell_type": "code",
      "metadata": {
        "id": "6V7LbPU1-fXx"
      },
      "source": [
        ""
      ],
      "execution_count": null,
      "outputs": []
    },
    {
      "cell_type": "code",
      "metadata": {
        "colab": {
          "base_uri": "https://localhost:8080/"
        },
        "id": "tCWKfak6LZ4Y",
        "outputId": "36811aa2-ecba-40ad-ab5e-f5e39b366e0a"
      },
      "source": [
        "# numero1 = 1\n",
        "# numero2 = 5\n",
        "# soma = numero1 + numero2\n",
        "\n",
        "# print(soma)\n",
        "\n",
        "nome_usuario = \"Danilo de Souza Miguel \\n\" # Variável nome_usuario recebe o valor Danilo\n",
        "# print(nome_usuario)\n",
        "idade = 36  # Variável numero recebe o valor 36\n",
        "# print(idade)\n",
        "altura = 1.80  # Variável altura recebe o valor 1.80\n",
        "# print(altura)\n",
        "professor = True # Variável aberto recebe o valor False\n",
        "# print(professor)\n",
        "\n",
        "print(nome_usuario, idade, altura, professor) # print das variáveis criadas\n"
      ],
      "execution_count": null,
      "outputs": [
        {
          "output_type": "stream",
          "name": "stdout",
          "text": [
            "Danilo de Souza Miguel \n",
            " 36 1.8 True\n"
          ]
        }
      ]
    },
    {
      "cell_type": "code",
      "source": [
        ""
      ],
      "metadata": {
        "id": "kjdwQUs8nknd"
      },
      "execution_count": null,
      "outputs": []
    },
    {
      "cell_type": "markdown",
      "metadata": {
        "id": "oVBDb1UTOrbg"
      },
      "source": [
        "#Concatenação e conversão de tipos de variáveis"
      ]
    },
    {
      "cell_type": "code",
      "metadata": {
        "colab": {
          "base_uri": "https://localhost:8080/"
        },
        "id": "zwmGdggKtE23",
        "outputId": "8b2ff7f6-691f-4ba9-bdc1-a79d73f47fbc"
      },
      "source": [
        "primeiro_nome  = \"Ednor \"\n",
        "sobrenome = \"Cunha Silva \"\n",
        "\n",
        "print(Ednor  Cunha Silva)\n",
        "idade = 48\n",
        "altura = 1.68\n",
        "\n",
        "#print( \"Meu nome é \" + primeiro_nome, \"meu sobrenome é \" + sobrenome,\"minha idade é \" + str(idade), str(altura))\n",
        "\n",
        "\n",
        "# print(\" Meu nome é \", primeiro_nome, \" e meu sobrenome \", sobrenome, \" e minha idade é \", idade)# print normal\n",
        "# print(\" Meu nome é \" + primeiro_nome + \" e meu sobrenome \" + sobrenome + \" e minha idade é \" + str(idade))# \n",
        "# print(\" Meu nome é \" + primeiro_nome + f'e minha idade é {idade:,.2f} altura {altura:,.2f}')#\n",
        "\n",
        "print (\"Meu nome é {}, tenho {:.2f} e minha altura é {}\".format(primeiro_nome,idade,altura))\n",
        "\n",
        "\n",
        "#print(primeiro_nome + sobrenome + str(idade)) # Conversão de tipo,conversão para string\n",
        "# print(primeiro_nome + sobrenome + idade)# Não podemos concatenar inteiros junto a Strings\n",
        "\n",
        "# print(\" Minha idade é \" + str(idade) + \" e minha altura é \" + str(altura)) \n",
        "\n",
        "#print(float(idade))\n",
        "\n"
      ],
      "execution_count": null,
      "outputs": [
        {
          "output_type": "stream",
          "name": "stdout",
          "text": [
            "Danilo Souza Miguel \n",
            "Meu nome é Danilo , tenho 36.00 e minha altura é 1.78\n"
          ]
        }
      ]
    },
    {
      "cell_type": "code",
      "metadata": {
        "colab": {
          "base_uri": "https://localhost:8080/"
        },
        "id": "h9lPq_lcDSMo",
        "outputId": "de21762b-4dde-4c1b-8428-d90584de9dac"
      },
      "source": [
        "primeiro_nome = \"Camila\"\n",
        "sobrenome = \"Brito\"\n",
        "idade = 34\n",
        "altura = 1.65\n",
        "print(\"Meu nome é \" + primeiro_nome + \" e meu sobrenome é \" + sobrenome)\n"
      ],
      "execution_count": null,
      "outputs": [
        {
          "output_type": "stream",
          "name": "stdout",
          "text": [
            "Meu nome é Camila e meu sobrenome é Brito\n"
          ]
        }
      ]
    },
    {
      "cell_type": "code",
      "metadata": {
        "colab": {
          "base_uri": "https://localhost:8080/"
        },
        "id": "7ZCuNPtoD81o",
        "outputId": "5b328f80-d32c-40b9-b930-6ec5a875794d"
      },
      "source": [
        "Primeiro_nome  = \" Rodrigo \"\n",
        "sobrenome = \" SANTOS \"\n",
        "idade = 19\n",
        "altura = 1.68\n",
        "\n",
        "print(str(idade), str(altura))\n",
        "\n",
        "\n",
        "#print(primeiro_nome + sobrenome + str(idade)) # Conversão de tipo,conversão para string\n",
        "# print(primeiro_nome + sobrenome + idade)# Não podemos connomecatenar inteiros junto a Strings\n",
        "\n",
        "# print(\" Minha idade é \" + str(idade) + \" e minha altura é \" + str(altura)) \n",
        "\n",
        "#print(float(idade))\n",
        "\n"
      ],
      "execution_count": null,
      "outputs": [
        {
          "output_type": "stream",
          "name": "stdout",
          "text": [
            "19 1.68\n"
          ]
        }
      ]
    },
    {
      "cell_type": "markdown",
      "metadata": {
        "id": "-7KJsnqJlHCY"
      },
      "source": [
        "# Função Input"
      ]
    },
    {
      "cell_type": "code",
      "metadata": {
        "colab": {
          "base_uri": "https://localhost:8080/"
        },
        "id": "xdRe7kTwlOTd",
        "outputId": "aa761f82-d856-4008-fb91-56fcf42047a1"
      },
      "source": [
        "nome =  input(\"Digite o seu nome: \")\n",
        "idade =  input(\"Digite sua idade: \")\n",
        "print(\"O nome do usuário é\", nome, \"e sua idade é\",idade)\n",
        "\n",
        "\n",
        "\n",
        "\n",
        "# print(\"Digte seu nome: \")\n",
        "# nome_entrada = input()\n",
        "\n",
        "# from fractions import Fraction\n",
        "\n",
        "# # idade = float(input(\"Digite a sua idade\"))\n",
        "# idade = Fraction(input(\"Digite a sua idade\"))\n",
        "# print(type(idade))\n",
        "# print(idade)\n",
        "\n",
        "\n"
      ],
      "execution_count": null,
      "outputs": [
        {
          "output_type": "stream",
          "name": "stdout",
          "text": [
            "Digite o seu nome: op\n",
            "Digite sua idade: 25\n",
            "O nome do usuário é op e sua idade é 25\n"
          ]
        }
      ]
    },
    {
      "cell_type": "markdown",
      "metadata": {
        "id": "f4qEiWs3pGpo"
      },
      "source": [
        "# Escreva um programa no qual o usuário entre com o valor do carro e o valor do IPVA(São Paulo) a ser pago seja impresso."
      ]
    },
    {
      "cell_type": "code",
      "source": [
        ""
      ],
      "metadata": {
        "id": "Eh9J372ZBqAK"
      },
      "execution_count": null,
      "outputs": []
    },
    {
      "cell_type": "code",
      "source": [
        ""
      ],
      "metadata": {
        "id": "ca9XIddhACs0"
      },
      "execution_count": null,
      "outputs": []
    },
    {
      "cell_type": "markdown",
      "source": [
        ""
      ],
      "metadata": {
        "id": "Q5rMcdbTASTM"
      }
    },
    {
      "cell_type": "code",
      "metadata": {
        "colab": {
          "base_uri": "https://localhost:8080/"
        },
        "id": "gZT1gqvyJigy",
        "outputId": "060e949d-c0c1-4586-9186-3f31e9de3165"
      },
      "source": [
        "print(\"\\t Calculo da média\")\n",
        "num1 = int(input(\"Digite o primeiro numero \"))\n",
        "num2 = int(input(\"Digite o segundo numero \"))\n",
        "media  = (num1 + num2) / 2\n",
        "print(\"Media é =\", media)"
      ],
      "execution_count": null,
      "outputs": [
        {
          "output_type": "stream",
          "name": "stdout",
          "text": [
            "\t Calculo da média\n",
            "Digite o primeiro numero 1\n",
            "Digite o segundo numero 5\n",
            "Media é = 3.0\n"
          ]
        }
      ]
    },
    {
      "cell_type": "code",
      "source": [
        "from google.colab import drive\n",
        "drive.mount('/content/drive')"
      ],
      "metadata": {
        "id": "aNChmOrhAndX"
      },
      "execution_count": null,
      "outputs": []
    },
    {
      "cell_type": "code",
      "source": [
        ""
      ],
      "metadata": {
        "id": "UTqLn6h5_bgE"
      },
      "execution_count": null,
      "outputs": []
    },
    {
      "cell_type": "markdown",
      "metadata": {
        "id": "o7IFE64-IN94"
      },
      "source": [
        "## ***Saida e entrada de dados, operadores, conversão de tipos:***\n",
        "### Crie um software que receba dois numeros calcule a média entre eles e mostre o resultado."
      ]
    },
    {
      "cell_type": "code",
      "metadata": {
        "colab": {
          "base_uri": "https://localhost:8080/"
        },
        "id": "jhWFULxcrfgL",
        "outputId": "ab3dd00a-ad56-431b-b2b8-ce4e536f42fb"
      },
      "source": [
        "# valor_carro = float(input(\"Informe o valor do carro: \"))\n",
        "# valor_ipva = valor_carro * 0.04\n",
        "# print(f'O valor do IPVA SP para o veículo com valor {valor_carro} é de {valor_ipva}')\n",
        "\n",
        "\n",
        "# valor= float(input(\"Informe o valor do seu carro?: \"))\n",
        "# IPVA= 0.04*valor\n",
        "# print(\"IPVA= \", IPVA)\n",
        "\n",
        "\n",
        "# valor = float(input(\"Coloque o valor do carro em R$: \"))\n",
        "# IPVA = valor * 0.04\n",
        "# print(\"O valor do IPVA a ser pago é de:\" + \"R$\" +format(IPVA))\n",
        "\n",
        "\n",
        "# valor = float(input(\"Coloque o valor do carro: \"))\n",
        "# IPVA = valor * 0.04\n",
        "# print(\"O valor do seu IPVA a ser pago é de : R${:20.2f}\".format(IPVA))\n",
        "\n",
        "# carro = float(input(\"Digite o valor do carro: \"))\n",
        "# ipva = carro * 0.04\n",
        "# print(f\"O valor do IPVA é: R${ipva}\")"
      ],
      "execution_count": null,
      "outputs": [
        {
          "output_type": "stream",
          "name": "stdout",
          "text": [
            "Digite o valor do carro: 10\n",
            "O valor do IPVA é: R$0.4\n"
          ]
        }
      ]
    },
    {
      "cell_type": "markdown",
      "metadata": {
        "id": "SlEmA1uzyk_d"
      },
      "source": [
        "# Quem é voce?  Crie uma variável para cada dado e conte quem você, usando concatenação e conversão de dados.  Nome, Sobrenome, idade, altura"
      ]
    },
    {
      "cell_type": "code",
      "metadata": {
        "colab": {
          "base_uri": "https://localhost:8080/"
        },
        "id": "4Z0rE4_AO67a",
        "outputId": "df43d87f-ed20-4509-c9a9-2fd32aab5aac"
      },
      "source": [
        "primeiro_nome  = \"Danilo \"\n",
        "sobrenome = \"Miguel \"\n",
        "idade = 35\n",
        "altura = 1.80\n",
        "print(\"Meu nome é \" + primeiro_nome + \"e meu sobrenome \" + sobrenome + \"tenho \" + str(idade) + \"anos \" + \"e minha altura é \" + str(altura)) \n",
        "\n",
        "\n",
        "# primeiro_numero = \"20\"\n",
        "# segundo_numero = \"21\"\n",
        "# print(primeiro_numero + \" \" +segundo_numero)  # Concatenação das variáveis primeiro_nome e segundo_nome\n",
        "# print(primeiro_numero, segundo_numero)\n",
        "\n",
        "# nome  = input(\"Digite seu nome\")\n",
        "# sobrenome = \"Miguel\"\n",
        "# idade = 35\n",
        "\n",
        "# print(type(idade))\n",
        "\n",
        "print(nome, sobrenome, idade)\n",
        "print (\"Oi meu nome é: \" + nome + \" \" + sobrenome + \" minha idade é 35\")\n",
        "print (\"Oi meu nome é: \" + nome + \" e minha idade é \" + str(idade))  # Conversão da variável idade(int) para str\n",
        "print (\"Oi meu nome é: \",nome, \" e minha idade é\",idade, \"teste\" )\n",
        "\n",
        "print(type(idade))       \n",
        "print(type(str(idade)))   # resulta STR\n",
        "\n",
        "\n",
        "print(type(idade))\n",
        "\n",
        "str()\n",
        "\n",
        "numero_inteiro = 100\n",
        "numero  = float(numero_inteiro) # Conversão da variável numero_inteiro(int) para float\n",
        "\n",
        "print(numero_inteiro, numero)\n",
        "\n",
        "teste_conversao = \"45.\"\n",
        "teste_conversao_string = float(teste_conversao)\n",
        "print(teste_conversao)\n",
        "print(teste_conversao_string)\n",
        "\n",
        "numero_complexo_string =\"1+5j\"\n",
        "string_teste = \"j\"\n",
        "convert_complex = complex(string_teste)\n",
        "numero_complexo = complex(numero_complexo_string)"
      ],
      "execution_count": null,
      "outputs": [
        {
          "output_type": "stream",
          "name": "stdout",
          "text": [
            "Meu nome é Danilo e meu sobrenome Miguel tenho 35anos e minha altura é 1.8\n",
            "Danilo Miguel  35\n",
            "Oi meu nome é: Danilo Miguel  minha idade é 35\n",
            "Oi meu nome é: Danilo e minha idade é 35\n",
            "Oi meu nome é:  Danilo  e minha idade é 35 teste\n",
            "<class 'int'>\n",
            "<class 'str'>\n",
            "<class 'int'>\n",
            "100 100.0\n",
            "45.\n",
            "45.0\n"
          ]
        }
      ]
    },
    {
      "cell_type": "markdown",
      "metadata": {
        "id": "Gg9kziH_WlKz"
      },
      "source": [
        "# Desafio: \n",
        "##Quem é você? Imprima seu nome, sua idade e qual será sua idade no próximo ano."
      ]
    },
    {
      "cell_type": "code",
      "metadata": {
        "id": "TV63TwLHXhZR"
      },
      "source": [
        "\n"
      ],
      "execution_count": null,
      "outputs": []
    },
    {
      "cell_type": "markdown",
      "metadata": {
        "id": "giDs_SUAaDu4"
      },
      "source": [
        "# Operação com boleanos"
      ]
    },
    {
      "cell_type": "code",
      "metadata": {
        "colab": {
          "base_uri": "https://localhost:8080/"
        },
        "id": "MeqQ59EAbMM0",
        "outputId": "a9c6dc0d-f231-47b8-98ef-9e7ab2aa16cd"
      },
      "source": [
        "\n",
        "True + 4 * True"
      ],
      "execution_count": null,
      "outputs": [
        {
          "output_type": "execute_result",
          "data": {
            "text/plain": [
              "5"
            ]
          },
          "metadata": {
            "tags": []
          },
          "execution_count": 72
        }
      ]
    },
    {
      "cell_type": "markdown",
      "metadata": {
        "id": "HfXSrDGbfjMR"
      },
      "source": [
        "#Desafio: \n",
        "## Entre com o valor da conta de um restaurante e calcule a gorjeta do garçom, nesse restaurante a gorjeta do garçom é de 10 por cento.\n"
      ]
    },
    {
      "cell_type": "code",
      "metadata": {
        "colab": {
          "base_uri": "https://localhost:8080/"
        },
        "id": "pPcDhQQpfmtb",
        "outputId": "8baa5b49-9c9f-47b7-d82e-bc792ed95081"
      },
      "source": [
        ""
      ],
      "execution_count": null,
      "outputs": [
        {
          "output_type": "stream",
          "text": [
            "Insira o valor da conta 500\n",
            "500.0\n",
            "50.0\n"
          ],
          "name": "stdout"
        }
      ]
    },
    {
      "cell_type": "markdown",
      "metadata": {
        "id": "LEXVGMignMEI"
      },
      "source": [
        "# Manipulação de Strings"
      ]
    },
    {
      "cell_type": "code",
      "metadata": {
        "colab": {
          "base_uri": "https://localhost:8080/"
        },
        "id": "Pry0iCT6nS9k",
        "outputId": "83d87a1b-e963-4b4b-c222-63b650d9d3b3"
      },
      "source": [
        "teste =  \"primeiro Teste Teste Teste\"\n",
        "segundo_teste = \"Este é outro teste\"\n",
        "# numero = \"54.5\"\n",
        "\n",
        "print(type(teste))\n",
        "print(len(teste))\n",
        "print(\"Danilo \" + \"Souza Miguel\")\n",
        "teste_replace =  teste.replace(\"Primeiro\", \"Terceiro\")\n",
        "print(teste_replace)\n",
        "print(teste.startswith(\"Primeiro\"))\n",
        "print(teste.endswith(\"Primeiro\"))\n",
        "print(teste.count(\"Teste\"))\n",
        "print(teste.capitalize())\n",
        "\n",
        "# print(\"Danilo de Souza Miguel\")\n",
        "\n",
        "# type(teste) # Tipo de dados \n",
        "# len(teste) # Tamanho da string\n",
        "# len(\"Danilo\")\n",
        "\n",
        "# print(teste + segundo_teste + numero) # concatenação\n",
        "\n",
        "\n",
        "# nome = \"Danilo\"  # Substituindo uma substring por outra string\n",
        "# # meu_nome = nome.replace(\"Miguel\", \"Souza\")\n",
        "# # print(meu_nome) \n",
        "\n",
        "# print(nome.startswith(\"Danilo\"))\n",
        "# print(nome.endswith(\"Miguel\"))\n",
        "# print(nome.count(\"Danilo\"))\n",
        "# print(nome.capitalize())\n",
        "# print(nome[-1])\n",
        "\n",
        "\n",
        "\n",
        "\n",
        "\n",
        "\n",
        "\n",
        "# numero = 54.5\n",
        "# conv = str(numero)\n",
        "\n",
        "# print(conv.replace(\".\", \",\"))\n",
        "\n"
      ],
      "execution_count": null,
      "outputs": [
        {
          "output_type": "stream",
          "name": "stdout",
          "text": [
            "<class 'str'>\n",
            "26\n",
            "Danilo Souza Miguel\n",
            "primeiro Teste Teste Teste\n",
            "False\n",
            "False\n",
            "3\n",
            "Primeiro teste teste teste\n"
          ]
        }
      ]
    },
    {
      "cell_type": "markdown",
      "metadata": {
        "id": "offSTKeO28XI"
      },
      "source": [
        ""
      ]
    },
    {
      "cell_type": "markdown",
      "metadata": {
        "id": "u04G_aKNuGoz"
      },
      "source": [
        "# Operadores"
      ]
    },
    {
      "cell_type": "code",
      "metadata": {
        "colab": {
          "base_uri": "https://localhost:8080/"
        },
        "id": "nJLz69QUMqQB",
        "outputId": "473f20a9-e2d0-4716-a3df-d0c51194979e"
      },
      "source": [
        "ainda não entendi como funciona o f pra colocar casas decimais, o que to errando?\n",
        "\n",
        "print(\"Indique o primeiro número: \")\n",
        "primNum = float(input())\n",
        "print(\"Indique o segundo número: \")\n",
        "segNum = float(input())\n",
        "media = (primNum+segNum)/2\n",
        "print(f\"A média é:  {media:.2f}\")\n"
      ],
      "execution_count": null,
      "outputs": [
        {
          "output_type": "stream",
          "name": "stdout",
          "text": [
            "Object `errando` not found.\n",
            "Indique o primeiro número: \n",
            "85\n",
            "Indique o segundo número: \n",
            "98\n",
            "A média é:  91.50\n"
          ]
        }
      ]
    },
    {
      "cell_type": "markdown",
      "metadata": {
        "id": "14kBfXHQubOC"
      },
      "source": [
        "### Operadores aritméticos"
      ]
    },
    {
      "cell_type": "code",
      "metadata": {
        "colab": {
          "base_uri": "https://localhost:8080/"
        },
        "id": "gx8L15w7uKMF",
        "outputId": "9e9f8858-85e8-4e62-d3cc-a6184b2e08bb"
      },
      "source": [
        "# print (5 + 5) # soma\n",
        "# print (85 - 72) # subtração\n",
        "# print (8 * 7) # multiplicação\n",
        "# print (56 / 12) # divisão\n",
        "\n",
        "# print(4 ** 4) # Potenciação\n",
        "print(5 / 2)\n",
        "print(5 // 2) # Retorna sempre um numero inteiro\n",
        "\n",
        "print(6 % 2) # Retorna o resto da divisão\n",
        "\n",
        "# import math\n",
        "# numero = 9\n",
        "# print(math.sqrt(numero))\n",
        "\n",
        "\n",
        "# help(input)\n"
      ],
      "execution_count": null,
      "outputs": [
        {
          "output_type": "stream",
          "name": "stdout",
          "text": [
            "2.5\n",
            "2\n",
            "0\n"
          ]
        }
      ]
    },
    {
      "cell_type": "markdown",
      "metadata": {
        "id": "tbNO6KSdxhsf"
      },
      "source": [
        "### Operadores de atribuição"
      ]
    },
    {
      "cell_type": "code",
      "metadata": {
        "colab": {
          "base_uri": "https://localhost:8080/"
        },
        "id": "7p-zs8jCxohp",
        "outputId": "08c1f062-9ca4-47a7-bdc0-d8bb922219cf"
      },
      "source": [
        "# a = 1\n",
        "# b  = 10\n",
        "c = 15\n",
        "d = 20\n",
        "#  e = 50\n",
        "\n",
        "# a += 5  # a = a + 5\n",
        "# b -= 1  # b = b - 1\n",
        "# c *= 1  # c = c * 1\n",
        "d //= 2  # d = d / 2\n",
        "#  e %= 1  # x = e % 1\n",
        "\n",
        "# a = 10\n",
        "# a += 10\n",
        "# a -= 10\n",
        "# a *= 8\n",
        "# a /=5\n",
        "\n",
        "# a = a / 5\n",
        "# b = 6\n",
        "# b %=2\n",
        "# print(a)\n",
        "# print(b)\n",
        "# print(c)\n",
        "print(d)\n",
        "#  print(e)"
      ],
      "execution_count": null,
      "outputs": [
        {
          "output_type": "stream",
          "name": "stdout",
          "text": [
            "10\n"
          ]
        }
      ]
    },
    {
      "cell_type": "markdown",
      "metadata": {
        "id": "5ERdtr4_FVZU"
      },
      "source": [
        "#  Operadores de comparação"
      ]
    },
    {
      "cell_type": "code",
      "metadata": {
        "colab": {
          "base_uri": "https://localhost:8080/"
        },
        "id": "-Ll280geOc73",
        "outputId": "0570d5d5-a9df-4b78-e668-93dca605a7b9"
      },
      "source": [
        "# print(7 == 8) # (==) Representa igualdade\n",
        "\n",
        "# print(2.5 == 2.5)\n",
        "# print(\"texto\" == \"texto\")\n",
        "\n",
        "# A = (1 > 2)\n",
        "# print(\"Valor de A:\", A) \n",
        "\n",
        "# B = (1 < 2)\n",
        "# print(\"Valor de B:\", B)\n",
        "\n",
        "# print( 10 > 9) # Verifica se numero da esquerda é maior ao número da direita\n",
        "# print( 8 > 9) # Verifica se numero da esquerda é menor ao número da direita\n",
        "\n",
        "print( 10 >= 9) # Verifica se numero da esquerda é maior ou igual ao número da direita\n",
        "print( 7 <= 9) # Verifica se numero da esquerda é menor ou igual  ao número da direita\n",
        "\n",
        "print( 9 !=  9) # Verifica se numero da esquerda é diferente  ao número da direita\n",
        "\n",
        "\n"
      ],
      "execution_count": null,
      "outputs": [
        {
          "output_type": "stream",
          "name": "stdout",
          "text": [
            "True\n",
            "True\n",
            "False\n"
          ]
        }
      ]
    },
    {
      "cell_type": "markdown",
      "metadata": {
        "id": "O6hfyxQMwhFD"
      },
      "source": [
        "# Operadores Lógicos"
      ]
    },
    {
      "cell_type": "code",
      "metadata": {
        "colab": {
          "base_uri": "https://localhost:8080/"
        },
        "id": "NH2A2ve5wlfH",
        "outputId": "bd9ca34f-2911-4b78-c37a-439050be362c"
      },
      "source": [
        "x =  5\n",
        "numero = x > 1 and x == 5 # Operador \"AND\" Se todas as condições forem verdadeiras então é verdadeiro\n",
        "print(numero)\n",
        "\n",
        "numero = x > 1 or x < 5 # Operador \"OR\" Se  umas das condições for verdadeira então é verdadeiro\n",
        "print(numero)\n",
        "\n",
        "numero = not(x > 1 or x < 5) # Operador \"NOT\"  inverte o valor da expressão\n",
        "print(numero)\n",
        "\n",
        "\n"
      ],
      "execution_count": null,
      "outputs": [
        {
          "output_type": "stream",
          "name": "stdout",
          "text": [
            "True\n",
            "True\n",
            "False\n"
          ]
        }
      ]
    },
    {
      "cell_type": "markdown",
      "metadata": {
        "id": "TIlFWIjlx_LV"
      },
      "source": [
        "# Entendendo o que são os comentários de última/várias linhas"
      ]
    },
    {
      "cell_type": "code",
      "metadata": {
        "id": "Kn5cbXfDyF_8",
        "colab": {
          "base_uri": "https://localhost:8080/",
          "height": 35
        },
        "outputId": "364ce215-da9d-4fe5-c850-f4fadd5f0006"
      },
      "source": [
        "# Esse é um comentario de uma linha\n",
        "# Outro comentário\n",
        "''' Esse é um comentario de uma linha '''\n"
      ],
      "execution_count": null,
      "outputs": [
        {
          "output_type": "execute_result",
          "data": {
            "application/vnd.google.colaboratory.intrinsic+json": {
              "type": "string"
            },
            "text/plain": [
              "' Esse é um comentario de uma linha '"
            ]
          },
          "metadata": {},
          "execution_count": 19
        }
      ]
    },
    {
      "cell_type": "markdown",
      "metadata": {
        "id": "zjRa_ldPzhbr"
      },
      "source": [
        "# Exibindo valores númericos formatados \n",
        "\n",
        "---\n",
        "\n"
      ]
    },
    {
      "cell_type": "code",
      "metadata": {
        "colab": {
          "base_uri": "https://localhost:8080/"
        },
        "id": "tQpnEt7qzlAq",
        "outputId": "31086cdf-0888-4dfe-efb0-ee65af0d07b4"
      },
      "source": [
        "medida_polegada = float(input(\"Informe a medida em polegada: \"))\n",
        "medida_centimetro = medida_polegada * 2.54\n",
        "saida = \"A saida \" + str(medida_polegada) + \"polegadas em centimetros é: \" + str(medida_centimetro) # Não é possivel concatener valores númericos\n",
        "print(f\" A medida de {medida_polegada} polegadas em centimetro e:{medida_centimetro:.2f} \")\n",
        "print(saida)\n"
      ],
      "execution_count": null,
      "outputs": [
        {
          "output_type": "stream",
          "text": [
            "Informe a medida em polegada: 50\n",
            " A medida de 50.0 polegadas em centimetro e:127.00 \n",
            "A saida 50.0polegadas em centimetros é: 127.0\n"
          ],
          "name": "stdout"
        }
      ]
    },
    {
      "cell_type": "markdown",
      "metadata": {
        "id": "zGFr4SD8z8Ru"
      },
      "source": [
        "# Formatação de blocos e indentação e estrututa de seleção if/else"
      ]
    },
    {
      "cell_type": "code",
      "metadata": {
        "colab": {
          "base_uri": "https://localhost:8080/"
        },
        "id": "5mBRkL4rz_Ov",
        "outputId": "662bbdc0-06f9-4cc2-ecc3-4df97db5e330"
      },
      "source": [
        "numero = 10\n",
        "numero1 = 5\n",
        "\n",
        "# if numero1 > numero:\n",
        "#   print(\"O numero \" + str(numero1) + \" é maior que o numero \" + str(numero))\n",
        "# else:\n",
        "#   print(\"O numero \" + str(numero1) + \" é menor que o numero \" + str(numero))\n",
        "\n",
        "\n",
        "\n",
        "\n",
        "# if idade >= 18 and amigo_dono == True:\n",
        "#   print(\"Pode entrar\") \n",
        "# else:\n",
        "#   print(\"Va para casa\")  \n",
        "\n",
        "idade = 19\n",
        "amigo_dono = True\n",
        "\n",
        "if idade >= 18:\n",
        "  print(\"Pode entrar\") \n",
        "print(\"Va para casa\") \n",
        "\n",
        "\n",
        "\n",
        "\n",
        "\n",
        "# A identação se aplica com 2 espaços ou um tab\n"
      ],
      "execution_count": null,
      "outputs": [
        {
          "output_type": "stream",
          "name": "stdout",
          "text": [
            "Pode entrar\n",
            "Va para casa\n"
          ]
        }
      ]
    },
    {
      "cell_type": "markdown",
      "metadata": {
        "id": "4QpfPi3b_rWI"
      },
      "source": [
        "***Entrada e saida de dados, estrutura de seleção, operadores***:\n",
        "## Crie um algoritmo que receba o salário atual de um funcionário, calcule o valor do novo salário reajustado de acordo com os dados abaixo.\n",
        "* Se o salario atual do funcionário for abaixo de 1000 reais, o reajuste será de 15%.\n",
        "* Se o salario atual do funcionário for acima de 1000 reais, o reajuste será de 10%."
      ]
    },
    {
      "cell_type": "code",
      "metadata": {
        "colab": {
          "base_uri": "https://localhost:8080/"
        },
        "id": "L2MSrRKCAWM7",
        "outputId": "bea4b1c9-1dff-419c-861a-922d8c80b3bc"
      },
      "source": [
        "# print('\\t Cálculo do novo salário')\n",
        "# salario_atual = float(input('Informe o salario atual: '))\n",
        "\n",
        "# if salario_atual <= 1000:\n",
        "#     salario_novo=salario_atual+(salario_atual*0.15)\n",
        "#     print('Salario com reajuste' '=', salario_novo)\n",
        "# elif salario_atual > 1000:\n",
        "#     salario_novo=salario_atual+(salario_atual*0.10)\n",
        "#     print('Salario com reajuste' '=', salario_novo)\n",
        "\n",
        "\n",
        "# print('\\t Cálculo do novo salário')\n",
        "# salario_atual = float(input('Informe o salario atual: '))\n",
        "\n",
        "# if salario_atual <= 1000:\n",
        "#     salario_novo=salario_atual+(salario_atual*0.15)\n",
        "#     print('Salario com reajuste' '=', salario_novo)\n",
        "# else:\n",
        "#     salario_novo=salario_atual+(salario_atual*0.10)\n",
        "#     print('Salario com reajuste' '=', salario_novo)\n",
        "\n",
        "# print(\"Digite o salário:\")\n",
        "# x = float(input())\n",
        "\n",
        "# if x < 1000:\n",
        "#   x = x + 0.15*x\n",
        "#   print('Salario com reajuste' '=', x)\n",
        "# else:\n",
        "#   x = x + 0.1*x\n",
        "#   print('Salario com reajuste' '=', x)\n",
        "\n",
        "\n",
        "print(\"Cálculo de Reajuste Salarial\")\n",
        "print(\"\\n\")\n",
        "\n",
        "salario = input(\"Digite seu salário atual: \")\n",
        "salario = float(salario)\n",
        "\n",
        "print(\"O valor do salário reajustado é: \")\n",
        "\n",
        "if salario <= 1000:\n",
        "  print(salario * 1.15)\n",
        "else:\n",
        "  print(salario * 1.10)\n",
        "\n",
        "  print(\"novo salário = R$ {:.2f}\".format(x))\n",
        "  print(f\"novo salário = R$ {x:.2f}\")\n",
        "\n"
      ],
      "execution_count": null,
      "outputs": [
        {
          "output_type": "stream",
          "name": "stdout",
          "text": [
            "Cálculo de Reajuste Salarial\n",
            "\n",
            "\n",
            "Digite seu salário atual: 2000\n",
            "O valor do salário reajustado é: \n",
            "2200.0\n",
            "novo salário = R$ 2200.00\n",
            "novo salário = R$ 2200.00\n"
          ]
        }
      ]
    },
    {
      "cell_type": "markdown",
      "metadata": {
        "id": "hPvtoW2A1DDW"
      },
      "source": [
        "# Importando bibliotecas - Trabalhando com data e hora "
      ]
    },
    {
      "cell_type": "code",
      "metadata": {
        "colab": {
          "base_uri": "https://localhost:8080/",
          "height": 131
        },
        "id": "MwOh_5zM1CqS",
        "outputId": "0475ae0f-2cc0-4892-ba51-b73bae8ac27c"
      },
      "source": [
        "import math\n",
        "from math import sqrt\n",
        "\n",
        "from datetime import datetime, timezone\n",
        "from datetime import date\n",
        "from dateutil import tz\n",
        "\n",
        "print(math.sqrt(9))\n",
        "print(sqrt(25))\n",
        "\n",
        "\n",
        "\n",
        "# print(sqrt(25))\n",
        "\n",
        "\n",
        "# print(sqrt(25))\n",
        "\n",
        "\n",
        "# import datetime\n",
        "# import math\n",
        "# from datetime import date\n",
        "\n",
        "\n",
        "\n",
        "data_hj = date(year=2021, month=11, day=16)\n",
        "print(data_hj)\n",
        " \n",
        "print(datetime.today()) # Data atual\n",
        "# print(datetime.today())\n",
        "print(datetime.now().isoformat()) # Data atual\n",
        "\n",
        "print(datetime.today().strftime('%Y-%d-%m'))# Alterando o formato da data\n",
        "# print(datetime.today().strftime('%Y-%m-%d %H:%M')) # Tirando os milesegundos\n",
        "print(datetime.today().strftime('%A, %B %d, %Y %H:%M:%S'))# Incluindo os dias da semana \n",
        "print(datetime.today()tz.tzlocal()) # Data atual\n",
        "\n",
        "\n",
        "# print(fuso)\n",
        "\n"
      ],
      "execution_count": null,
      "outputs": [
        {
          "output_type": "error",
          "ename": "SyntaxError",
          "evalue": "ignored",
          "traceback": [
            "\u001b[0;36m  File \u001b[0;32m\"<ipython-input-108-89a991afbe97>\"\u001b[0;36m, line \u001b[0;32m36\u001b[0m\n\u001b[0;31m    fuso = tz.tzlocal() # Data atual\u001b[0m\n\u001b[0m       ^\u001b[0m\n\u001b[0;31mSyntaxError\u001b[0m\u001b[0;31m:\u001b[0m invalid syntax\n"
          ]
        }
      ]
    },
    {
      "cell_type": "markdown",
      "metadata": {
        "id": "jgd92dd4APXQ"
      },
      "source": [
        "# Números formatados\n",
        "\n",
        "\n"
      ]
    },
    {
      "cell_type": "code",
      "metadata": {
        "colab": {
          "base_uri": "https://localhost:8080/"
        },
        "id": "Yn2VXeFSBhmo",
        "outputId": "9c8fc09b-1be5-4a44-a2fa-f76f2a0694c5"
      },
      "source": [
        "porcentagem = 0.10\n",
        "valor_conta = 500\n",
        "Gorjeta = \"A gorjeta do garçom\"\n",
        "\n",
        "# Gorjeta =\"A gorjeta do garçom é \" +  (porcentagem) * (valor_conta) # Errado\n",
        "print(Gorjeta)\n",
        "\n",
        "# Primeira solução\n",
        "Gorjeta =\"A gorjeta do garçom é \" +  str((porcentagem) * (valor_conta))\n",
        "print(Gorjeta, \"Conversão de tipos\")\n",
        "\n",
        "\n",
        "# print(\"A gorjeta do garçom é\" (porcetagem) * (valor_conta))\n",
        "\n",
        "porcentagem = 0.10\n",
        "valor_conta = 500\n",
        "Gorjeta1 = \"A gorjeta do garçom\"\n",
        "\n",
        "Gorjeta1 = porcentagem + valor_conta\n",
        "print (Gorjeta1)\n",
        "\n",
        "# print (f\"{Gorjeta}\")\n",
        "\n",
        "# print(type(Gorjeta))"
      ],
      "execution_count": null,
      "outputs": [
        {
          "output_type": "stream",
          "text": [
            "A gorjeta do garçom\n",
            "A gorjeta do garçom é 50.0 Conversão de tipos\n",
            "500.1\n"
          ],
          "name": "stdout"
        }
      ]
    },
    {
      "cell_type": "code",
      "metadata": {
        "colab": {
          "base_uri": "https://localhost:8080/"
        },
        "id": "6ws3vmkiYrAK",
        "outputId": "437cb83f-c961-4dcc-9ca7-69ca7bb28dab"
      },
      "source": [
        "porcentagem = 0.10\n",
        "valor_conta = 500\n",
        "Gorjeta1 = \"A gorjeta do garçom\"\n",
        "\n",
        "Gorjeta1 = porcentagem * valor_conta\n",
        "print (Gorjeta1)\n"
      ],
      "execution_count": null,
      "outputs": [
        {
          "output_type": "stream",
          "text": [
            "50.0\n"
          ],
          "name": "stdout"
        }
      ]
    },
    {
      "cell_type": "markdown",
      "metadata": {
        "id": "yxGbW-cvUBZs"
      },
      "source": [
        "# Operações com booleanos"
      ]
    },
    {
      "cell_type": "code",
      "metadata": {
        "colab": {
          "base_uri": "https://localhost:8080/"
        },
        "id": "ZNU9gsQTUHcu",
        "outputId": "de0c8c4d-3508-4849-cd3d-b8a5c2db28a7"
      },
      "source": [
        " a = True  # Valor lógico 1\n",
        " b = False # Valor lógico 0\n",
        "#  c  =  a < b\n",
        "#  d  =  a > b\n",
        "#  e  = a == b\n",
        "#  print (\"Valor de c é:\", c)\n",
        "#  print (\"Valor de d é:\", d)\n",
        "#  print (\"Valor de e é:\", e)\n",
        "\n",
        "# print (\"Valor de b\", not b)\n",
        "# print (\"Valor de a e b\", a or b)\n",
        "print (\"Valor de a e b\", a and b)\n",
        "\n"
      ],
      "execution_count": null,
      "outputs": [
        {
          "output_type": "stream",
          "name": "stdout",
          "text": [
            "Valor de a e b False\n"
          ]
        }
      ]
    },
    {
      "cell_type": "markdown",
      "metadata": {
        "id": "h2cWt6NXW4dx"
      },
      "source": [
        "# Operadores condicionais (if, else,elif)"
      ]
    },
    {
      "cell_type": "code",
      "metadata": {
        "colab": {
          "base_uri": "https://localhost:8080/"
        },
        "id": "WcN02jVyXNTj",
        "outputId": "23c0bd89-3218-4331-f7a4-79d3fa44b41f"
      },
      "source": [
        "nome = \"DAnilo\"\n",
        "if nome:\n",
        "    print(\"A variavel não é vazia\")  \n",
        "\n",
        "numero1 = 20\n",
        "numero2 = 30\n",
        "if numero1 != numero2:\n",
        "  print(\"Numero 1 menor que o numero 2\") \n",
        "else:\n",
        "  print(\"Numero 2 maior que o numero 1\") \n",
        "    \n",
        "\n",
        "cor =  \"azul\"\n",
        "\n",
        "if cor == \"verde\":\n",
        "  print(\"Siga em frente\")\n",
        "elif cor == \"vermelho\":\n",
        "  print(\"Você tem que parar\")\n",
        "elif cor == \"azul\":\n",
        "  print(\"Vá de metro\")\n",
        "else:\n",
        "  print(\"Vá com calma, atenção\")    \n"
      ],
      "execution_count": null,
      "outputs": [
        {
          "output_type": "stream",
          "name": "stdout",
          "text": [
            "A variavel não é vazia\n",
            "Numero 1 menor que o numero 2\n",
            "Vá de metro\n"
          ]
        }
      ]
    },
    {
      "cell_type": "markdown",
      "metadata": {
        "id": "4MhF8xIZd0Er"
      },
      "source": [
        "# Funções"
      ]
    },
    {
      "cell_type": "code",
      "metadata": {
        "colab": {
          "base_uri": "https://localhost:8080/"
        },
        "id": "Bc2Yv1Ftd7_J",
        "outputId": "672aad85-e545-4f0b-a936-037d6c476dc4"
      },
      "source": [
        "# def teste():\n",
        "#   print(\"Essa é uma função de teste\")\n",
        "# teste()\n",
        "\n",
        "\n",
        "# def exibirNome(nome, idade):\n",
        "#   print (\"Oi, esse é o meu nome:\", nome, \"e a minha idade é: \", idade)\n",
        "\n",
        "# exibirNome(\"Danilo\", 36)  \n",
        "\n",
        "def soma(numero1, numero2):\n",
        "  soma =  numero1 + numero2\n",
        "  resultado = \"O resultado é\"\n",
        "  return resultado, soma\n",
        "\n",
        "primeiro_numero = int(input(\"Digite o primeiro numero\"))\n",
        "segundo_numero = int(input(\"Digite o segundo numero\"))\n",
        "\n",
        "soma(primeiro_numero,segundo_numero)  "
      ],
      "execution_count": null,
      "outputs": [
        {
          "name": "stdout",
          "output_type": "stream",
          "text": [
            "Digite o primeiro numero40\n",
            "Digite o segundo numero40\n"
          ]
        },
        {
          "output_type": "execute_result",
          "data": {
            "text/plain": [
              "('O resultado é', 80)"
            ]
          },
          "metadata": {},
          "execution_count": 117
        }
      ]
    },
    {
      "cell_type": "code",
      "metadata": {
        "colab": {
          "base_uri": "https://localhost:8080/"
        },
        "id": "2yzZ3cbuuLBK",
        "outputId": "eda6ce52-e303-4e7e-859f-d994da74ddd8"
      },
      "source": [
        "# Erro de sintaxe\n",
        "# if(True):\n",
        "#   print(\"ok\")\n",
        "\n",
        "# 5/0\n",
        "num  = 2\n",
        "(5 * num) + 10 "
      ],
      "execution_count": null,
      "outputs": [
        {
          "output_type": "execute_result",
          "data": {
            "text/plain": [
              "20"
            ]
          },
          "metadata": {},
          "execution_count": 6
        }
      ]
    },
    {
      "cell_type": "markdown",
      "metadata": {
        "id": "jWcmQ9EHgYHa"
      },
      "source": [
        "## Escreva uma função que calcule e retorne o  pagamento semanal de um funcionário, através das horas trabalhadas e o valor da hora."
      ]
    },
    {
      "cell_type": "code",
      "metadata": {
        "colab": {
          "base_uri": "https://localhost:8080/"
        },
        "id": "YJiQcnfng84S",
        "outputId": "f333e439-1186-43c4-bba2-76968903d501"
      },
      "source": [
        "# def calcular_pagamento(horas, valor_hora):\n",
        "#     horas = float(horas)\n",
        "#     taxa = float(valor_hora)\n",
        "#     if horas <= 40:\n",
        "#         salario=horas*taxa\n",
        "#     else:\n",
        "#         hora_extra = horas - 40\n",
        "#         salario = 40*taxa+(hora_extra*(1.3*taxa))\n",
        "#     return salario\n",
        "\n",
        "# calcular_pagamento(50, 6)    \n",
        "\n",
        "# def pagamentoSemanal(horas, valordahora):\n",
        "#   pagamentoSemanal= horas*valordaHora\n",
        "#   return pagamentoSemanal\n",
        "\n",
        "# horas = float(input('Horas trabalhadas:'))\n",
        "# valordaHora = float(input('Valor hora trabalhada:'))\n",
        "# pagamentoSemanal(horas, valordaHora)\n",
        "\n",
        "\n",
        "# def nomeAluno(*nomes):\n",
        "#   print(\"Agora vou imprimir o nome de alguns Alunos:\")\n",
        "#   for nome in nomes: \n",
        "#     print(nome)\n",
        "#   return \"Será que funciona?\"  \n",
        "\n",
        "# nomeAluno(\"A FM\", \"Izabel\", \"Kelvin\", \"Danilo\")  \n",
        "\n",
        "# if 5 in (1,2,3,9,7):\n",
        "#   print(\"Está contido\")\n",
        "# else:\n",
        "#   print(\"Não tem 5 ai\")  \n",
        "\n",
        "\n",
        "\n",
        "# nomeAlunos2 = (\"A FM\", \"Izabel\", \"Kelvin\", \"Danilo\")\n",
        "# for n in nomeAlunos2:\n",
        " \n",
        "#   print(nomeAlunos2)\n",
        "#   print(n)\n",
        "\n",
        "\n",
        "for x in \"Danilo\":\n",
        "  print(x)"
      ],
      "execution_count": null,
      "outputs": [
        {
          "output_type": "stream",
          "name": "stdout",
          "text": [
            "D\n",
            "a\n",
            "n\n",
            "i\n",
            "l\n",
            "o\n"
          ]
        }
      ]
    },
    {
      "cell_type": "markdown",
      "metadata": {
        "id": "a3-ymbI8qhwM"
      },
      "source": [
        "# Operadores de repetição"
      ]
    },
    {
      "cell_type": "code",
      "metadata": {
        "id": "RQnxL-ORqoAX"
      },
      "source": [
        ""
      ],
      "execution_count": null,
      "outputs": []
    },
    {
      "cell_type": "markdown",
      "metadata": {
        "id": "89spHmX9E88w"
      },
      "source": [
        "# Lista"
      ]
    },
    {
      "cell_type": "code",
      "metadata": {
        "colab": {
          "base_uri": "https://localhost:8080/"
        },
        "id": "OcfNdZredXMp",
        "outputId": "5aa6cc41-28c5-44a0-9762-8cbc6643efb6"
      },
      "source": [
        "frutas = [\"Maça\", \"Banana\", \"Abacate\",\"Marmelo\",\"Uva\"]\n",
        "frutas.reverse()\n",
        "\n",
        "# print(type(frutas))\n",
        "# print(len(frutas))\n",
        "# print(frutas[4])\n",
        "# frutas.append(\"Marmelo\")\n",
        "# frutas.insert(0, \"Carambola\")\n",
        "# frutas[3] = \"pera\"\n",
        "\n",
        "\n",
        "# frutas.remove(True)\n",
        "# frutas.pop(0)\n",
        "print(frutas)\n",
        "\n",
        "\n",
        "# print(len(frutas))\n",
        "\n",
        "\n",
        "# frutas[1] = \"goiaba\"\n",
        "# frutas.append(\"Banana\")\n",
        "# frutas.insert(0, \"Acerola\")\n",
        "# frutas.remove(\"Uva\")\n",
        "# frutas.pop()\n",
        "# frutas.sort()\n",
        "\n",
        "# print(frutas)\n",
        "# print(type(frutas))\n",
        "# print(len(frutas))\n",
        "# print(frutas[0])\n",
        "\n",
        "# frutas[3] = \"Manga\" # Alterando valor do elemento na lista\n",
        "# print(frutas)\n",
        "\n",
        "# frutas.append(\"Laranja\") # Inserindo novo elemento na lista\n",
        "# frutas.append(\" \") # Inserindo novo elemento na lista\n",
        "\n",
        "# print(frutas)\n",
        "\n",
        "# frutas.insert(0, \"Morango\")#Inserindo novo elemento na lista utlizando insert()\n",
        "# print(frutas)\n",
        "\n",
        "# frutas.remove(\"Morango\") # Remove informando o parametro\n",
        "# print(frutas)\n",
        "\n",
        "# frutas.pop(1)\n",
        "# print(frutas)\n",
        "\n",
        "# numeros = [7,1,5,3,4, True, \"Texto\", [\"elemento1\", \"elemento2\"]]\n",
        "# frutas.sort()\n",
        "# print(frutas)\n",
        "\n",
        "# numeros[7].insert(2,\"elemento3\")\n",
        "\n",
        "# print(numeros)\n",
        "\n",
        "# print(len(frutas))\n",
        "\n",
        "\n",
        "# notas = [[5,5,4], [7,9,5],[8,6,9]]\n",
        "\n",
        "# print((notas[0][0] + notas[0][1] + notas[0][2]) / 3 )"
      ],
      "execution_count": null,
      "outputs": [
        {
          "output_type": "stream",
          "name": "stdout",
          "text": [
            "['Uva', 'Marmelo', 'Abacate', 'Banana', 'Maça']\n"
          ]
        }
      ]
    },
    {
      "cell_type": "markdown",
      "metadata": {
        "id": "7ww6O6rW8NRT"
      },
      "source": [
        ""
      ]
    },
    {
      "cell_type": "markdown",
      "metadata": {
        "id": "dfVEiBSEyUwq"
      },
      "source": [
        ""
      ]
    },
    {
      "cell_type": "markdown",
      "metadata": {
        "id": "J-Pxzxly1JFV"
      },
      "source": [
        "# Tuplas"
      ]
    },
    {
      "cell_type": "code",
      "metadata": {
        "colab": {
          "base_uri": "https://localhost:8080/"
        },
        "id": "9Gc3Pu5m17kB",
        "outputId": "73f519db-dfdf-4d71-f11f-ce577b9733b8"
      },
      "source": [
        "Alunos = ('Danilo', 'Marcelo', 'Ana', 'Maria')\n",
        "frutas = ('Banana')\n",
        "frutas = ('Banana',)\n",
        "print(type(frutas))\n",
        "print(len(frutas))\n",
        "# print(type(Alunos))\n",
        "# print(Alunos[1])\n",
        "# print(Alunos)"
      ],
      "execution_count": null,
      "outputs": [
        {
          "output_type": "stream",
          "name": "stdout",
          "text": [
            "<class 'tuple'>\n",
            "2\n"
          ]
        }
      ]
    },
    {
      "cell_type": "markdown",
      "metadata": {
        "id": "CDNsNVLiFAOJ"
      },
      "source": [
        "# Dicionário"
      ]
    },
    {
      "cell_type": "code",
      "metadata": {
        "colab": {
          "base_uri": "https://localhost:8080/"
        },
        "id": "QLArTw0cnO_B",
        "outputId": "5e044819-59e7-4de3-b17b-edd8fd574c3d"
      },
      "source": [
        "dicionario = {'nome':\"Danilo\", 'idade': 36, 'altura': 1.80, 'frutas':['maça', 'banana']} # Criação do dicionário\n",
        "# print(dicionario['nome'])\n",
        "# # dicionario['nome'] = \"Marcelo\"\n",
        "# del dicionario['nome']\n",
        "# dicionario.pop('altura', None)\n",
        "\n",
        "print(dicionario)\n",
        "# dicionario1 = {'feira':['banana', 'maça', 'uva'], 'nome': 'Danilo'}\n",
        "# lista = [\"Danilo\", 35, 1.80] \n",
        "# dicionario['cpf'] = 40454545 # Adicionando um novo item\n",
        "# dicionario.pop('altura', None) # Remoção\n",
        "# del dicionario['idade'] # Remoção\n",
        "# print(dicionario)\n",
        "# print(dicionario1)\n",
        "# print(dicionario['nome'], dicionario['cpf'] )"
      ],
      "execution_count": null,
      "outputs": [
        {
          "output_type": "stream",
          "name": "stdout",
          "text": [
            "{'nome': 'Danilo', 'idade': 36, 'altura': 1.8, 'frutas': ['maça', 'banana']}\n"
          ]
        }
      ]
    },
    {
      "cell_type": "markdown",
      "metadata": {
        "id": "RvYeO2SA8Pvy"
      },
      "source": [
        "# Função range()"
      ]
    },
    {
      "cell_type": "code",
      "metadata": {
        "colab": {
          "base_uri": "https://localhost:8080/"
        },
        "id": "8N4EIszp8V99",
        "outputId": "67a4ecbd-450b-4ebb-8343-40afc5f49a97"
      },
      "source": [
        "# // start, stop, step\n",
        "list(range(3, 30, 3))"
      ],
      "execution_count": null,
      "outputs": [
        {
          "output_type": "execute_result",
          "data": {
            "text/plain": [
              "[3, 6, 9, 12, 15, 18, 21, 24, 27]"
            ]
          },
          "metadata": {},
          "execution_count": 51
        }
      ]
    },
    {
      "cell_type": "markdown",
      "metadata": {
        "id": "7N-Gcecc9b0N"
      },
      "source": [
        "# Função list()"
      ]
    },
    {
      "cell_type": "markdown",
      "metadata": {
        "id": "gTeVrD-iIm34"
      },
      "source": [
        "####***Lista:***\n",
        "### Crie uma lista de numeros com cinco 5, 10, 7, 8, e 45\n",
        "* Exiba o tamanho da lista\n",
        "* Exiba o segundo indice da lista\n",
        "* Altere 10 por 77\n",
        "* Adicione 10 novamente a lista\n",
        "* Insira o numero 85 após o 8\n",
        "* Remova 7"
      ]
    },
    {
      "cell_type": "code",
      "metadata": {
        "colab": {
          "base_uri": "https://localhost:8080/"
        },
        "id": "O53a0biVImjq",
        "outputId": "8aaa8376-919f-470a-8d83-9bfffc097010"
      },
      "source": [
        "numeros = [5,10,7,8,45, 7, 7]\n",
        "# print(len(numeros))\n",
        "# print(numeros[1])\n",
        "# numeros[1] = 77\n",
        "# numeros.append(10)\n",
        "# numeros.insert(4, 85)\n",
        "numeros.remove(7)\n",
        "print(numeros)"
      ],
      "execution_count": null,
      "outputs": [
        {
          "output_type": "stream",
          "name": "stdout",
          "text": [
            "[5, 10, 8, 45, 7, 7]\n"
          ]
        }
      ]
    },
    {
      "cell_type": "markdown",
      "metadata": {
        "id": "AjKPEh2JM3ZQ"
      },
      "source": [
        "##***Leitura de arquivos***"
      ]
    },
    {
      "cell_type": "code",
      "metadata": {
        "id": "qFjWBvPjNDDX"
      },
      "source": [
        ""
      ],
      "execution_count": null,
      "outputs": []
    },
    {
      "cell_type": "code",
      "metadata": {
        "colab": {
          "base_uri": "https://localhost:8080/"
        },
        "id": "MxU5vhTP9g8y",
        "outputId": "22f9f529-90d9-42cb-d0b5-26170e8b9c52"
      },
      "source": [
        "list(\"Danilo\")\n",
        "list((5,2,3))"
      ],
      "execution_count": null,
      "outputs": [
        {
          "output_type": "execute_result",
          "data": {
            "text/plain": [
              "[5, 2, 3]"
            ]
          },
          "metadata": {},
          "execution_count": 53
        }
      ]
    },
    {
      "cell_type": "markdown",
      "metadata": {
        "id": "O2gSlvNl-T-V"
      },
      "source": [
        "### ***Funções, estrutura de repetição***\n",
        "###Crie uma função que exiba todos os numeros pares de 0 a 20"
      ]
    },
    {
      "cell_type": "code",
      "metadata": {
        "colab": {
          "base_uri": "https://localhost:8080/"
        },
        "id": "qBg_M9Vw-hjp",
        "outputId": "9332cb8f-227e-4bef-f84f-7341eb4b127c"
      },
      "source": [
        "def conta():\n",
        "  return(tuple(range(0,21,2)))\n",
        "\n",
        "# conta()  \n",
        "\n",
        "def pares():\n",
        "  return list(range(0,21,2))\n",
        "\n",
        "# pares()  \n",
        "\n",
        "\n",
        "def numeros_pares():\n",
        "  for i in range(0,21,2):\n",
        "    print(i)\n",
        "\n",
        "# numeros_pares()\n",
        "\n",
        "\n",
        "def numeros_pares():\n",
        "  numero = 0\n",
        "  while numero <= 20:\n",
        "    if numero % 2 == 0:\n",
        "      print(numero)\n",
        "    numero = numero + 1  \n",
        "\n",
        "numeros_pares()"
      ],
      "execution_count": null,
      "outputs": [
        {
          "output_type": "stream",
          "name": "stdout",
          "text": [
            "0\n",
            "2\n",
            "4\n",
            "6\n",
            "8\n",
            "10\n",
            "12\n",
            "14\n",
            "16\n",
            "18\n",
            "20\n"
          ]
        }
      ]
    },
    {
      "cell_type": "markdown",
      "metadata": {
        "id": "Pd2Mt8IXEJ7V"
      },
      "source": [
        "# Laços, repetição e operadores condicionais"
      ]
    },
    {
      "cell_type": "code",
      "metadata": {
        "colab": {
          "base_uri": "https://localhost:8080/"
        },
        "id": "WNkIEut7q3lj",
        "outputId": "c2c40840-3635-4fb3-d8ae-f5b62a1b27e0"
      },
      "source": [
        "idade = int(input(\"Digite sua idade: \\n\"))\n",
        "amigo = str(input(\"Voce amigo do dono: \\n\"))\n",
        "amigo =  amigo.upper()\n",
        "print(amigo)\n",
        "if idade > 18 or amigo == \"SIM\":\n",
        "    print(\"Pode entrar\")\n",
        "# elif amigo == \"Sim\":\n",
        "#   print(\"Pode entrar\")\n",
        "else:\n",
        "    print(\"Va para casa\")  "
      ],
      "execution_count": null,
      "outputs": [
        {
          "output_type": "stream",
          "name": "stdout",
          "text": [
            "Digite sua idade: \n",
            "15\n",
            "Voce amigo do dono: \n",
            "sim\n",
            "SIM\n",
            "Pode entrar\n"
          ]
        }
      ]
    },
    {
      "cell_type": "markdown",
      "metadata": {
        "id": "X4ItkKKhvRKZ"
      },
      "source": [
        "## Enquanto"
      ]
    },
    {
      "cell_type": "code",
      "metadata": {
        "colab": {
          "base_uri": "https://localhost:8080/",
          "height": 745
        },
        "id": "t-E0iY27vUZm",
        "outputId": "824cb984-3561-403e-dd3b-2abfe2b22d1a"
      },
      "source": [
        "numero = 50\n",
        "\n",
        "# while numero > 10:\n",
        "#   print(numero)\n",
        "#   numero =  numero - 10\n",
        "# print(\"Pode parar\")\n",
        "\n",
        "nome = input('Insira seu nome')\n",
        "while nome:\n",
        "nome = input('Insira seu nome')\n",
        "  \n"
      ],
      "execution_count": null,
      "outputs": [
        {
          "name": "stdout",
          "output_type": "stream",
          "text": [
            "Insira seu nomeDAnilo\n",
            "Insira seu nome\n",
            "Insira seu nome\n",
            "Insira seu nome\n",
            "Insira seu nome\n",
            "Insira seu nome\n",
            "Insira seu nome\n",
            "Insira seu nome\n",
            "Insira seu nome\n",
            "Insira seu nome\n"
          ]
        },
        {
          "output_type": "error",
          "ename": "KeyboardInterrupt",
          "evalue": "ignored",
          "traceback": [
            "\u001b[0;31m---------------------------------------------------------------------------\u001b[0m",
            "\u001b[0;31mKeyboardInterrupt\u001b[0m                         Traceback (most recent call last)",
            "\u001b[0;32m/usr/local/lib/python3.7/dist-packages/ipykernel/kernelbase.py\u001b[0m in \u001b[0;36m_input_request\u001b[0;34m(self, prompt, ident, parent, password)\u001b[0m\n\u001b[1;32m    728\u001b[0m             \u001b[0;32mtry\u001b[0m\u001b[0;34m:\u001b[0m\u001b[0;34m\u001b[0m\u001b[0;34m\u001b[0m\u001b[0m\n\u001b[0;32m--> 729\u001b[0;31m                 \u001b[0mident\u001b[0m\u001b[0;34m,\u001b[0m \u001b[0mreply\u001b[0m \u001b[0;34m=\u001b[0m \u001b[0mself\u001b[0m\u001b[0;34m.\u001b[0m\u001b[0msession\u001b[0m\u001b[0;34m.\u001b[0m\u001b[0mrecv\u001b[0m\u001b[0;34m(\u001b[0m\u001b[0mself\u001b[0m\u001b[0;34m.\u001b[0m\u001b[0mstdin_socket\u001b[0m\u001b[0;34m,\u001b[0m \u001b[0;36m0\u001b[0m\u001b[0;34m)\u001b[0m\u001b[0;34m\u001b[0m\u001b[0;34m\u001b[0m\u001b[0m\n\u001b[0m\u001b[1;32m    730\u001b[0m             \u001b[0;32mexcept\u001b[0m \u001b[0mException\u001b[0m\u001b[0;34m:\u001b[0m\u001b[0;34m\u001b[0m\u001b[0;34m\u001b[0m\u001b[0m\n",
            "\u001b[0;32m/usr/local/lib/python3.7/dist-packages/jupyter_client/session.py\u001b[0m in \u001b[0;36mrecv\u001b[0;34m(self, socket, mode, content, copy)\u001b[0m\n\u001b[1;32m    802\u001b[0m         \u001b[0;32mtry\u001b[0m\u001b[0;34m:\u001b[0m\u001b[0;34m\u001b[0m\u001b[0;34m\u001b[0m\u001b[0m\n\u001b[0;32m--> 803\u001b[0;31m             \u001b[0mmsg_list\u001b[0m \u001b[0;34m=\u001b[0m \u001b[0msocket\u001b[0m\u001b[0;34m.\u001b[0m\u001b[0mrecv_multipart\u001b[0m\u001b[0;34m(\u001b[0m\u001b[0mmode\u001b[0m\u001b[0;34m,\u001b[0m \u001b[0mcopy\u001b[0m\u001b[0;34m=\u001b[0m\u001b[0mcopy\u001b[0m\u001b[0;34m)\u001b[0m\u001b[0;34m\u001b[0m\u001b[0;34m\u001b[0m\u001b[0m\n\u001b[0m\u001b[1;32m    804\u001b[0m         \u001b[0;32mexcept\u001b[0m \u001b[0mzmq\u001b[0m\u001b[0;34m.\u001b[0m\u001b[0mZMQError\u001b[0m \u001b[0;32mas\u001b[0m \u001b[0me\u001b[0m\u001b[0;34m:\u001b[0m\u001b[0;34m\u001b[0m\u001b[0;34m\u001b[0m\u001b[0m\n",
            "\u001b[0;32m/usr/local/lib/python3.7/dist-packages/zmq/sugar/socket.py\u001b[0m in \u001b[0;36mrecv_multipart\u001b[0;34m(self, flags, copy, track)\u001b[0m\n\u001b[1;32m    624\u001b[0m         \"\"\"\n\u001b[0;32m--> 625\u001b[0;31m         \u001b[0mparts\u001b[0m \u001b[0;34m=\u001b[0m \u001b[0;34m[\u001b[0m\u001b[0mself\u001b[0m\u001b[0;34m.\u001b[0m\u001b[0mrecv\u001b[0m\u001b[0;34m(\u001b[0m\u001b[0mflags\u001b[0m\u001b[0;34m,\u001b[0m \u001b[0mcopy\u001b[0m\u001b[0;34m=\u001b[0m\u001b[0mcopy\u001b[0m\u001b[0;34m,\u001b[0m \u001b[0mtrack\u001b[0m\u001b[0;34m=\u001b[0m\u001b[0mtrack\u001b[0m\u001b[0;34m)\u001b[0m\u001b[0;34m]\u001b[0m\u001b[0;34m\u001b[0m\u001b[0;34m\u001b[0m\u001b[0m\n\u001b[0m\u001b[1;32m    626\u001b[0m         \u001b[0;31m# have first part already, only loop while more to receive\u001b[0m\u001b[0;34m\u001b[0m\u001b[0;34m\u001b[0m\u001b[0;34m\u001b[0m\u001b[0m\n",
            "\u001b[0;32mzmq/backend/cython/socket.pyx\u001b[0m in \u001b[0;36mzmq.backend.cython.socket.Socket.recv\u001b[0;34m()\u001b[0m\n",
            "\u001b[0;32mzmq/backend/cython/socket.pyx\u001b[0m in \u001b[0;36mzmq.backend.cython.socket.Socket.recv\u001b[0;34m()\u001b[0m\n",
            "\u001b[0;32mzmq/backend/cython/socket.pyx\u001b[0m in \u001b[0;36mzmq.backend.cython.socket._recv_copy\u001b[0;34m()\u001b[0m\n",
            "\u001b[0;32m/usr/local/lib/python3.7/dist-packages/zmq/backend/cython/checkrc.pxd\u001b[0m in \u001b[0;36mzmq.backend.cython.checkrc._check_rc\u001b[0;34m()\u001b[0m\n",
            "\u001b[0;31mKeyboardInterrupt\u001b[0m: ",
            "\nDuring handling of the above exception, another exception occurred:\n",
            "\u001b[0;31mKeyboardInterrupt\u001b[0m                         Traceback (most recent call last)",
            "\u001b[0;32m<ipython-input-68-a1209e68c8c9>\u001b[0m in \u001b[0;36m<module>\u001b[0;34m()\u001b[0m\n\u001b[1;32m      8\u001b[0m \u001b[0mnome\u001b[0m \u001b[0;34m=\u001b[0m \u001b[0minput\u001b[0m\u001b[0;34m(\u001b[0m\u001b[0;34m'Insira seu nome'\u001b[0m\u001b[0;34m)\u001b[0m\u001b[0;34m\u001b[0m\u001b[0;34m\u001b[0m\u001b[0m\n\u001b[1;32m      9\u001b[0m \u001b[0;32mwhile\u001b[0m \u001b[0mnome\u001b[0m\u001b[0;34m:\u001b[0m\u001b[0;34m\u001b[0m\u001b[0;34m\u001b[0m\u001b[0m\n\u001b[0;32m---> 10\u001b[0;31m   \u001b[0minput\u001b[0m\u001b[0;34m(\u001b[0m\u001b[0;34m'Insira seu nome'\u001b[0m\u001b[0;34m)\u001b[0m\u001b[0;34m\u001b[0m\u001b[0;34m\u001b[0m\u001b[0m\n\u001b[0m",
            "\u001b[0;32m/usr/local/lib/python3.7/dist-packages/ipykernel/kernelbase.py\u001b[0m in \u001b[0;36mraw_input\u001b[0;34m(self, prompt)\u001b[0m\n\u001b[1;32m    702\u001b[0m             \u001b[0mself\u001b[0m\u001b[0;34m.\u001b[0m\u001b[0m_parent_ident\u001b[0m\u001b[0;34m,\u001b[0m\u001b[0;34m\u001b[0m\u001b[0;34m\u001b[0m\u001b[0m\n\u001b[1;32m    703\u001b[0m             \u001b[0mself\u001b[0m\u001b[0;34m.\u001b[0m\u001b[0m_parent_header\u001b[0m\u001b[0;34m,\u001b[0m\u001b[0;34m\u001b[0m\u001b[0;34m\u001b[0m\u001b[0m\n\u001b[0;32m--> 704\u001b[0;31m             \u001b[0mpassword\u001b[0m\u001b[0;34m=\u001b[0m\u001b[0;32mFalse\u001b[0m\u001b[0;34m,\u001b[0m\u001b[0;34m\u001b[0m\u001b[0;34m\u001b[0m\u001b[0m\n\u001b[0m\u001b[1;32m    705\u001b[0m         )\n\u001b[1;32m    706\u001b[0m \u001b[0;34m\u001b[0m\u001b[0m\n",
            "\u001b[0;32m/usr/local/lib/python3.7/dist-packages/ipykernel/kernelbase.py\u001b[0m in \u001b[0;36m_input_request\u001b[0;34m(self, prompt, ident, parent, password)\u001b[0m\n\u001b[1;32m    732\u001b[0m             \u001b[0;32mexcept\u001b[0m \u001b[0mKeyboardInterrupt\u001b[0m\u001b[0;34m:\u001b[0m\u001b[0;34m\u001b[0m\u001b[0;34m\u001b[0m\u001b[0m\n\u001b[1;32m    733\u001b[0m                 \u001b[0;31m# re-raise KeyboardInterrupt, to truncate traceback\u001b[0m\u001b[0;34m\u001b[0m\u001b[0;34m\u001b[0m\u001b[0;34m\u001b[0m\u001b[0m\n\u001b[0;32m--> 734\u001b[0;31m                 \u001b[0;32mraise\u001b[0m \u001b[0mKeyboardInterrupt\u001b[0m\u001b[0;34m\u001b[0m\u001b[0;34m\u001b[0m\u001b[0m\n\u001b[0m\u001b[1;32m    735\u001b[0m             \u001b[0;32melse\u001b[0m\u001b[0;34m:\u001b[0m\u001b[0;34m\u001b[0m\u001b[0;34m\u001b[0m\u001b[0m\n\u001b[1;32m    736\u001b[0m                 \u001b[0;32mbreak\u001b[0m\u001b[0;34m\u001b[0m\u001b[0;34m\u001b[0m\u001b[0m\n",
            "\u001b[0;31mKeyboardInterrupt\u001b[0m: "
          ]
        }
      ]
    },
    {
      "cell_type": "markdown",
      "metadata": {
        "id": "NarWAs7Iwidi"
      },
      "source": [
        "# Para cada"
      ]
    },
    {
      "cell_type": "code",
      "metadata": {
        "colab": {
          "base_uri": "https://localhost:8080/"
        },
        "id": "MAejx5DNwm2b",
        "outputId": "3cfe6be9-a395-434b-e7f9-14d3666d4bb5"
      },
      "source": [
        "# lista = [1,2,3,4]\n",
        "# i = 0\n",
        "# while i < len(lista):\n",
        "#   lista[i] = lista[i] + 1\n",
        "#   print(len(lista))\n",
        "#   i = i + 2\n",
        "\n",
        "estados = ['Amazonas', 'São Paulo', 'Minas Gerais']\n",
        "for i in range (3):\n",
        "  print(i)\n",
        "  print(estados[i])\n",
        "\n",
        "\n",
        "\n",
        "\n",
        "\n",
        "# lista2 = []\n",
        "\n",
        " \n",
        "# while < len (lista):\n",
        "#   print(lista[item])\n",
        "#   item  = item + 1\n",
        "\n"
      ],
      "execution_count": null,
      "outputs": [
        {
          "output_type": "stream",
          "name": "stdout",
          "text": [
            "0\n",
            "Amazonas\n",
            "1\n",
            "São Paulo\n",
            "2\n",
            "Minas Gerais\n"
          ]
        }
      ]
    },
    {
      "cell_type": "markdown",
      "metadata": {
        "id": "Kbfl5FG9Hh3D"
      },
      "source": [
        "# enumerate"
      ]
    },
    {
      "cell_type": "code",
      "metadata": {
        "colab": {
          "base_uri": "https://localhost:8080/"
        },
        "id": "-uSBxBM0HnLs",
        "outputId": "da956c0d-28ab-4830-ac75-41ec0d78b9a5"
      },
      "source": [
        "estados = ['Amazonas', 'São Paulo', 'Minas Gerais']\n",
        "list(enumerate(estados, start=10))"
      ],
      "execution_count": null,
      "outputs": [
        {
          "output_type": "execute_result",
          "data": {
            "text/plain": [
              "[(10, 'Amazonas'), (11, 'São Paulo'), (12, 'Minas Gerais')]"
            ]
          },
          "metadata": {},
          "execution_count": 84
        }
      ]
    },
    {
      "cell_type": "markdown",
      "metadata": {
        "id": "zGNPUq9q3AYn"
      },
      "source": [
        "### Exercicio\n",
        "Dada a tabela o IR, faça um programa que recebe o salário de um trabalhador e devolve o valor do imposto.\n",
        "\n",
        "|Base de cálculo (R$)\t|Alíquota (%)|\n",
        "--------------------- |-------------|\n",
        "|Abaixo de 1.903,99    | 0%  |\n",
        "|De 1.903,99 até 2.826,65|\t7,5%\t|\n",
        "|De 2.826,66 até 3.751,05|\t15%\t|\n",
        "|De 3.751,06 até 4.664,68|\t22,5%\t|\n",
        "|Acima de 4.664,68|\t27,5%|"
      ]
    },
    {
      "cell_type": "markdown",
      "metadata": {
        "id": "MpZt6MJOzfe3"
      },
      "source": [
        "# Funções"
      ]
    },
    {
      "cell_type": "code",
      "metadata": {
        "colab": {
          "base_uri": "https://localhost:8080/"
        },
        "id": "oLL3UtRIzkG9",
        "outputId": "6bf978e9-362d-4219-c447-f41511fd1580"
      },
      "source": [
        "def hello(meu_nome):\n",
        "  print(\"Ola meu nome é:\", meu_nome)\n",
        "\n",
        "hello(\"Fabio\")  \n",
        "\n",
        "def calcular_gorjeta(valor_conta, porcentagem):\n",
        "  gorjeta = valor_conta * porcentagem\n",
        "  return gorjeta\n",
        "\n",
        "calcular_gorjeta(590, 0.1)  \n"
      ],
      "execution_count": null,
      "outputs": [
        {
          "output_type": "stream",
          "text": [
            "Ola meu nome é: Fabio\n"
          ],
          "name": "stdout"
        },
        {
          "output_type": "execute_result",
          "data": {
            "text/plain": [
              "59.0"
            ]
          },
          "metadata": {},
          "execution_count": 8
        }
      ]
    },
    {
      "cell_type": "markdown",
      "metadata": {
        "id": "Pfg9kUgjOM-s"
      },
      "source": [
        "##***Comanods linux e leitura de arquivos***"
      ]
    },
    {
      "cell_type": "code",
      "metadata": {
        "id": "Y1CUYPcQOWWD"
      },
      "source": [
        "# !ls\n",
        "# ! rm -r text\n",
        "# ! mkdir aula1\n",
        "# !cd aula1/\n",
        "# !touch teste.txt\n",
        "# ! touch aula1/test.txt\n",
        "\n",
        "# arquivo  = open('teste.txt', 'w')\n",
        "# conteudo = arquivo.write('arquivo')\n",
        "# print(conteudo)\n",
        "\n",
        "def escrever_arquivo(texto):\n",
        "    arquivo = open('teste.txt', 'w')  # Criar em outro diretório \n",
        "    arquivo.write(texto)\n",
        "    arquivo.close()\n"
      ],
      "execution_count": null,
      "outputs": []
    },
    {
      "cell_type": "markdown",
      "metadata": {
        "id": "qyEBgnnmSFrS"
      },
      "source": [
        "###***Crie um dicionário que descreve quem é você, deve conter ser nome, altura, endereço e idade***"
      ]
    },
    {
      "cell_type": "code",
      "metadata": {
        "colab": {
          "base_uri": "https://localhost:8080/"
        },
        "id": "H3CkjbnbTqNF",
        "outputId": "feb388ab-3ec4-4543-f459-4f7d6cd55aa0"
      },
      "source": [
        "dicionario = {'Nome': '', 'Altura':'', 'Endereço':'', \"Idade\":''}\n",
        "dicionario['Nome'] = input(\"Digite seu nome \")\n",
        "dicionario['Altura'] = input(\"Digite a sua altura \")\n",
        "dicionario['Endereço'] = input(\"Digite seu endereço \")\n",
        "dicionario['Idade'] = input('Digite sua idade ')\n",
        "\n",
        "print(dicionario)\n"
      ],
      "execution_count": null,
      "outputs": [
        {
          "output_type": "stream",
          "name": "stdout",
          "text": [
            "Digite seu nome Danilo\n",
            "Digite a sua altura 1.8\n",
            "Digite seu endereço São Paulo\n",
            "Digite sua idade 36\n",
            "{'Nome': 'Danilo', 'Altura': '1.8', 'Endereço': 'São Paulo', 'Idade': '36'}\n"
          ]
        }
      ]
    }
  ]
}